{
 "cells": [
  {
   "cell_type": "markdown",
   "metadata": {},
   "source": [
    "This tool creates ML models with the given datasets."
   ]
  },
  {
   "cell_type": "code",
   "execution_count": 1,
   "metadata": {},
   "outputs": [],
   "source": [
    "import pandas as pd\n",
    "import csv\n",
    "import os"
   ]
  },
  {
   "cell_type": "code",
   "execution_count": 2,
   "metadata": {},
   "outputs": [],
   "source": [
    "import re\n",
    "\n",
    "def split_number(s):\n",
    "    return list(filter(None, re.split(r'(\\d+)', s)))"
   ]
  },
  {
   "cell_type": "markdown",
   "metadata": {},
   "source": [
    "Our labels, separated by category."
   ]
  },
  {
   "cell_type": "code",
   "execution_count": 3,
   "metadata": {},
   "outputs": [],
   "source": [
    "basic_stats = [\n",
    "    'up_bytes_mean', 'up_bytes_median', 'up_bytes_std', 'up_bytes_var', 'up_bytes_skew', 'up_bytes_kurt',\n",
    "    'up_bytes_perc25', 'up_bytes_perc50', 'up_bytes_perc75', 'up_bytes_perc90',\n",
    "    'up_packet_mean', 'up_packet_median', 'up_packet_std', 'up_packet_var', 'up_packet_skew', 'up_packet_kurt',\n",
    "    'up_packet_perc25', 'up_packet_perc50', 'up_packet_perc75', 'up_packet_perc90',\n",
    "    'down_bytes_mean', 'down_bytes_median', 'down_bytes_std', 'down_bytes_var', 'down_bytes_skew', 'down_bytes_kurt',\n",
    "    'down_bytes_perc25', 'down_bytes_perc50', 'down_bytes_perc75', 'down_bytes_perc90',\n",
    "    'down_packet_mean', 'down_packet_median', 'down_packet_std', 'down_packet_var', 'down_packet_skew', 'down_packet_kurt',\n",
    "    'down_packet_perc25', 'down_packet_perc50', 'down_packet_perc75', 'down_packet_perc90']\n",
    "\n",
    "silences = ['down_bytes_silences', 'down_bytes_silence_mean', 'down_bytes_longest_silence', 'down_bytes_shortest_silence',\n",
    "           'up_bytes_silences', 'up_bytes_silence_mean', 'up_bytes_longest_silence', 'up_bytes_shortest_silence']\n",
    "\n",
    "\n",
    "scalogram_1 = ['up_bytes_1max_y', 'up_bytes_1max_x', 'up_bytes_1min_y', 'up_bytes_1min_x',  \n",
    "    'up_packet_1max_y', 'up_packet_1max_x', 'up_packet_1min_y', 'up_packet_1min_x', 'down_bytes_1max_y',\n",
    "    'down_bytes_1max_x',    'down_bytes_1min_y', 'down_bytes_1min_x', 'down_packet_1max_y',\n",
    "    'down_packet_1max_x', 'down_packet_1min_y', 'down_packet_1min_x']\n",
    "\n",
    "scalogram_2 = ['up_bytes_2max_y', 'up_bytes_2max_x', 'up_bytes_2min_y', 'up_bytes_2min_x',  \n",
    "    'up_packet_2max_y', 'up_packet_2max_x', 'up_packet_2min_y', 'up_packet_2min_x', 'down_bytes_2max_y',\n",
    "    'down_bytes_2max_x',    'down_bytes_2min_y', 'down_bytes_2min_x', 'down_packet_2max_y',\n",
    "    'down_packet_2max_x','down_packet_2min_y','down_packet_2min_x']\n",
    "\n",
    "scalogram_3 = ['up_bytes_3max_y', 'up_bytes_3max_x', 'up_bytes_3min_y', 'up_bytes_3min_x',  \n",
    "    'up_packet_3max_y', 'up_packet_3max_x', 'up_packet_3min_y', 'up_packet_3min_x', 'up_packet_3min_y',\n",
    "    'down_bytes_3max_y', 'down_packet_3min_y', 'down_bytes_3max_x', 'down_bytes_3min_y',\n",
    "    'down_bytes_3min_x', 'down_packet_3max_y','down_packet_3max_x','down_packet_3min_y','down_packet_3min_x']\n",
    "scalogram_4 = ['up_bytes_4max_y', 'up_bytes_4max_x', 'up_bytes_4min_y', 'up_bytes_4min_x',  \n",
    "    'up_packet_4max_y', 'up_packet_4max_x', 'up_packet_4min_y', 'up_packet_4min_x', 'down_bytes_4max_y',\n",
    "    'down_bytes_4max_x',    'down_bytes_4min_y', 'down_bytes_4min_x', 'down_packet_4max_y',\n",
    "    'down_packet_4max_x','down_packet_4min_y','down_packet_4min_x']\n",
    "scalogram_5 = ['up_bytes_5max_y', 'up_bytes_5max_x', 'up_bytes_5min_y', 'up_bytes_5min_x',  \n",
    "    'up_packet_5max_y', 'up_packet_5max_x', 'up_packet_5min_y', 'up_packet_5min_x', 'down_bytes_5max_y',\n",
    "    'down_bytes_5max_x',    'down_bytes_5min_y', 'down_bytes_5min_x', 'down_packet_5max_y',\n",
    "    'down_packet_5max_x','down_packet_5min_y','down_packet_5min_x']\n",
    "\n",
    "scalogram = scalogram_1 + scalogram_2 + scalogram_3 + scalogram_4 + scalogram_5"
   ]
  },
  {
   "cell_type": "markdown",
   "metadata": {},
   "source": [
    "Load the dataset."
   ]
  },
  {
   "cell_type": "code",
   "execution_count": 4,
   "metadata": {
    "scrolled": false
   },
   "outputs": [
    {
     "name": "stdout",
     "output_type": "stream",
     "text": [
      "Index(['up_bytes_mean', 'up_bytes_median', 'up_bytes_std', 'up_bytes_var',\n",
      "       'up_bytes_skew', 'up_bytes_kurt', 'up_bytes_perc25', 'up_bytes_perc50',\n",
      "       'up_bytes_perc75', 'up_bytes_perc90', 'up_bytes_silences',\n",
      "       'up_bytes_silence_mean', 'up_bytes_longest_silence',\n",
      "       'up_bytes_shortest_silence', 'up_packet_mean', 'up_packet_median',\n",
      "       'up_packet_std', 'up_packet_var', 'up_packet_skew', 'up_packet_kurt',\n",
      "       'up_packet_perc25', 'up_packet_perc50', 'up_packet_perc75',\n",
      "       'up_packet_perc90', 'up_packet_silences', 'up_packet_longest_silence',\n",
      "       'up_packet_shortest_silence', 'down_bytes_mean', 'down_bytes_median',\n",
      "       'down_bytes_std', 'down_bytes_var', 'down_bytes_skew',\n",
      "       'down_bytes_kurt', 'down_bytes_perc25', 'down_bytes_perc50',\n",
      "       'down_bytes_perc75', 'down_bytes_perc90', 'down_bytes_silences',\n",
      "       'down_bytes_silence_mean', 'down_bytes_longest_silence',\n",
      "       'down_bytes_shortest_silence', 'down_packet_mean', 'down_packet_median',\n",
      "       'down_packet_std', 'down_packet_var', 'down_packet_skew',\n",
      "       'down_packet_kurt', 'down_packet_perc25', 'down_packet_perc50',\n",
      "       'down_packet_perc75', 'down_packet_perc90', 'down_packet_silences',\n",
      "       'label'],\n",
      "      dtype='object')\n",
      "53\n"
     ]
    }
   ],
   "source": [
    "base_folder = \"csv/\"\n",
    "file_name = 'all_10s_1s_32.csv'\n",
    "\n",
    "dataset = pd.read_csv(os.path.join(str(base_folder), str(file_name)))\n",
    "\n",
    "dataset = dataset.drop(columns=['Unnamed: 0']).reset_index()\n",
    "dataset.drop(columns=['index', 'up_packet_silence_mean', 'down_packet_silence_mean',\n",
    "                      'down_packet_longest_silence', 'down_packet_shortest_silence'] + scalogram, inplace=True)\n",
    "features = dataset.columns\n",
    "print(features)\n",
    "print(len(features))"
   ]
  },
  {
   "cell_type": "markdown",
   "metadata": {},
   "source": [
    "Choose the labels to consider."
   ]
  },
  {
   "cell_type": "code",
   "execution_count": 5,
   "metadata": {},
   "outputs": [
    {
     "data": {
      "text/plain": [
       "netflix      1746\n",
       "youtube      1535\n",
       "acestream     755\n",
       "twitch        598\n",
       "Name: label, dtype: int64"
      ]
     },
     "execution_count": 5,
     "metadata": {},
     "output_type": "execute_result"
    }
   ],
   "source": [
    "\n",
    "dataset.loc[dataset['label'] == 'netflix-ssh', 'label'] = 'netflix'\n",
    "dataset.loc[dataset['label'] == 'youtube-ssh', 'label'] = 'youtube'\n",
    "dataset.loc[dataset['label'] == 'twitch-ssh', 'label'] = 'netflix'\n",
    "dataset.loc[dataset['label'] == 'netflix-openvpn', 'label'] = 'netflix'\n",
    "dataset.loc[dataset['label'] == 'youtube-openvpn', 'label'] = 'youtube'\n",
    "dataset.loc[dataset['label'] == 'twitch-openvpn', 'label'] = 'twitch'\n",
    "dataset.loc[dataset['label'] == 'acestream-openvpn', 'label'] = 'acestream'\n",
    "dataset.loc[dataset['label'] == 'twitch-openvpn', 'label'] = 'twitch'\n",
    "dataset.loc[dataset['label'] == 'netflix-openvpn', 'label'] = 'netflix'\n",
    "dataset.loc[dataset['label'] == 'youtube-openvpn', 'label'] = 'youtube'\n",
    "dataset.loc[dataset['label'] == 'browsing-openvpn', 'label'] = 'browsing'\n",
    "dataset.loc[dataset['label'] == 'reddit', 'label'] = 'browsing'\n",
    "dataset.loc[dataset['label'] == 'facebook', 'label'] = 'browsing'\n",
    "\n",
    "dataset = dataset[dataset['label'] != 'browsing']\n",
    "#dataset = dataset[dataset['label'] != 'netflix']\n",
    "\n",
    "dataset['label'].value_counts()"
   ]
  },
  {
   "cell_type": "code",
   "execution_count": 6,
   "metadata": {},
   "outputs": [
    {
     "data": {
      "text/plain": [
       "False"
      ]
     },
     "execution_count": 6,
     "metadata": {},
     "output_type": "execute_result"
    }
   ],
   "source": [
    "dataset['label'].isna().any()"
   ]
  },
  {
   "cell_type": "markdown",
   "metadata": {},
   "source": [
    "Factorize the labels."
   ]
  },
  {
   "cell_type": "code",
   "execution_count": 7,
   "metadata": {
    "scrolled": true
   },
   "outputs": [
    {
     "data": {
      "text/plain": [
       "0    1746\n",
       "1    1535\n",
       "2     755\n",
       "3     598\n",
       "Name: label, dtype: int64"
      ]
     },
     "execution_count": 7,
     "metadata": {},
     "output_type": "execute_result"
    }
   ],
   "source": [
    "prevlabel = dataset['label']\n",
    "dataset['label'] = pd.factorize(dataset['label'])[0]\n",
    "labels = dataset['label']\n",
    "dataset['label'].value_counts()"
   ]
  },
  {
   "cell_type": "markdown",
   "metadata": {},
   "source": [
    "Check correlation matrix."
   ]
  },
  {
   "cell_type": "code",
   "execution_count": 8,
   "metadata": {
    "scrolled": true
   },
   "outputs": [
    {
     "data": {
      "text/plain": [
       "label                          1.000000\n",
       "down_packet_perc25             0.393496\n",
       "down_packet_perc50             0.392862\n",
       "down_packet_median             0.392862\n",
       "down_packet_mean               0.378110\n",
       "down_packet_perc75             0.356091\n",
       "down_bytes_perc25              0.316750\n",
       "down_packet_perc90             0.307932\n",
       "up_packet_perc25               0.303856\n",
       "up_packet_mean                 0.298110\n",
       "up_packet_median               0.296725\n",
       "up_packet_perc50               0.296725\n",
       "up_packet_perc75               0.284816\n",
       "down_bytes_median              0.282311\n",
       "down_bytes_perc50              0.282311\n",
       "up_packet_perc90               0.275474\n",
       "down_bytes_mean                0.253619\n",
       "up_bytes_std                   0.244616\n",
       "up_bytes_perc90                0.239166\n",
       "up_packet_std                  0.235177\n",
       "up_bytes_mean                  0.230662\n",
       "up_bytes_perc75                0.225249\n",
       "up_bytes_median                0.205329\n",
       "up_bytes_perc50                0.205329\n",
       "down_bytes_perc75              0.205141\n",
       "up_bytes_perc25                0.180512\n",
       "down_packet_std                0.176579\n",
       "up_packet_var                  0.159080\n",
       "up_bytes_var                   0.154521\n",
       "down_bytes_perc90              0.148396\n",
       "down_packet_var                0.092427\n",
       "down_bytes_std                 0.062100\n",
       "down_bytes_var                 0.035852\n",
       "up_bytes_silence_mean         -0.023673\n",
       "down_bytes_silence_mean       -0.024838\n",
       "up_bytes_kurt                 -0.138431\n",
       "down_bytes_kurt               -0.139237\n",
       "up_packet_kurt                -0.144500\n",
       "down_packet_kurt              -0.153608\n",
       "up_bytes_skew                 -0.232601\n",
       "down_bytes_shortest_silence   -0.264448\n",
       "up_packet_shortest_silence    -0.267079\n",
       "up_bytes_shortest_silence     -0.267079\n",
       "up_packet_skew                -0.289259\n",
       "down_bytes_skew               -0.299721\n",
       "down_packet_skew              -0.309871\n",
       "down_bytes_longest_silence    -0.353890\n",
       "up_bytes_longest_silence      -0.353920\n",
       "up_packet_longest_silence     -0.353920\n",
       "up_bytes_silences             -0.461058\n",
       "up_packet_silences            -0.461058\n",
       "down_bytes_silences           -0.470353\n",
       "down_packet_silences          -0.470353\n",
       "Name: label, dtype: float64"
      ]
     },
     "execution_count": 8,
     "metadata": {},
     "output_type": "execute_result"
    }
   ],
   "source": [
    "dataset.corr()['label'].sort_values(ascending=False)"
   ]
  },
  {
   "cell_type": "markdown",
   "metadata": {},
   "source": [
    "Imputer for Nan values."
   ]
  },
  {
   "cell_type": "code",
   "execution_count": 9,
   "metadata": {},
   "outputs": [],
   "source": [
    "from sklearn.preprocessing import Imputer\n",
    "labels = dataset['label']\n",
    "imputer = Imputer(strategy=\"median\")\n",
    "imputer.fit(dataset)\n",
    "dataset = pd.DataFrame(imputer.transform(dataset), columns=dataset.columns)"
   ]
  },
  {
   "cell_type": "markdown",
   "metadata": {},
   "source": [
    "Normalize features (if needed)"
   ]
  },
  {
   "cell_type": "code",
   "execution_count": 10,
   "metadata": {},
   "outputs": [],
   "source": [
    "\n",
    "from sklearn.preprocessing import StandardScaler\n",
    "import numpy as np\n",
    "\n",
    "labels = dataset['label']\n",
    "dataset_no_label = dataset.loc[:, dataset.columns != 'label']\n",
    "to_scale = dataset_no_label\n",
    "scaler = StandardScaler()\n",
    "scaled = scaler.fit_transform(to_scale)\n",
    "\n",
    "dataset = pd.DataFrame(scaled)\n",
    "#joblib.dump(scaler, '../models/std_scaler_' + sampling_interval + '_' + str(sample_size) + '.sav')\n",
    "dataset['label'] = labels\n"
   ]
  },
  {
   "cell_type": "markdown",
   "metadata": {},
   "source": [
    "Apply PCA"
   ]
  },
  {
   "cell_type": "code",
   "execution_count": 11,
   "metadata": {},
   "outputs": [
    {
     "data": {
      "text/plain": [
       "False"
      ]
     },
     "execution_count": 11,
     "metadata": {},
     "output_type": "execute_result"
    }
   ],
   "source": [
    "#PCA\n",
    "\n",
    "from sklearn.decomposition import PCA\n",
    "\n",
    "labels = dataset['label']\n",
    "dataset_no_label = dataset.loc[:, dataset.columns != 'label']\n",
    "\n",
    "pca = PCA(n_components=40)\n",
    "main_components = pca.fit_transform(dataset_no_label)\n",
    "dataset = pd.DataFrame(data = main_components)\n",
    "dataset['label'] = labels\n",
    "\n",
    "dataset['label'].isna().any()\n"
   ]
  },
  {
   "cell_type": "markdown",
   "metadata": {},
   "source": [
    "Split training and testing set randomly."
   ]
  },
  {
   "cell_type": "code",
   "execution_count": 12,
   "metadata": {},
   "outputs": [],
   "source": [
    "from sklearn.model_selection import train_test_split\n",
    "train, test = train_test_split(dataset, test_size=0.2, random_state=42)\n",
    "\n",
    "y_train = train['label']\n",
    "x_train = train.drop(columns=['label'])\n",
    "\n",
    "y_test = test['label']\n",
    "x_test = test.drop(columns=['label'])"
   ]
  },
  {
   "cell_type": "code",
   "execution_count": 13,
   "metadata": {},
   "outputs": [],
   "source": [
    "y_train_youtube = (y_train == 0)\n",
    "y_train_netflix = (y_train == 1)\n",
    "y_train_twitch = (y_train == 2)\n",
    "y_train_acestream = (y_train == 3)"
   ]
  },
  {
   "cell_type": "code",
   "execution_count": 14,
   "metadata": {},
   "outputs": [],
   "source": [
    "from sklearn.metrics import confusion_matrix, f1_score, roc_auc_score\n",
    "from sklearn.metrics import roc_curve\n",
    "\n",
    "def plot_roc_curve(fpr, tpr, label=None):\n",
    "    plt.plot(fpr, tpr, linewidth=2, label=label)\n",
    "    plt.plot([0, 1], [0, 1], 'k--')\n",
    "    plt.axis([0, 1, 0, 1])\n",
    "    plt.xlabel('False Positive Rate')\n",
    "    plt.ylabel('True Positive Rate')"
   ]
  },
  {
   "cell_type": "code",
   "execution_count": 15,
   "metadata": {},
   "outputs": [],
   "source": [
    "from sklearn.ensemble import RandomForestClassifier\n",
    "from sklearn.svm import SVC\n",
    "from sklearn.metrics import confusion_matrix, f1_score, roc_auc_score, roc_curve\n",
    "from sklearn.model_selection import cross_val_predict, cross_val_score\n",
    "\n",
    "import matplotlib.pyplot as plt\n",
    "\n",
    "def do_test_forest(model):\n",
    "    \n",
    "    y_probas_y = cross_val_predict(model, x_train, y_train_youtube, cv=10, method=\"predict_proba\")\n",
    "    y_probas_n = cross_val_predict(model, x_train, y_train_netflix, cv=10, method=\"predict_proba\")\n",
    "    y_probas_t = cross_val_predict(model, x_train, y_train_twitch, cv=10, method=\"predict_proba\")\n",
    "    y_probas_a = cross_val_predict(model, x_train, y_train_acestream, cv=10, method=\"predict_proba\")\n",
    "    y_probas = cross_val_predict(model, x_train, y_train, cv=10, method=\"predict_proba\")\n",
    "    \n",
    "    y_scores_y = y_probas_y[:, 1]\n",
    "    y_scores_n = y_probas_n[:, 1]\n",
    "    y_scores_t = y_probas_t[:, 1]\n",
    "    y_scores_a = y_probas_a[:, 1]\n",
    "\n",
    "\n",
    "    fpr_y, tpr_y, thresholds_y = roc_curve(y_train_youtube, y_scores_y)\n",
    "    fpr_n, tpr_n, thresholds_n = roc_curve(y_train_netflix, y_scores_n)\n",
    "    fpr_t, tpr_t, thresholds_t = roc_curve(y_train_twitch, y_scores_t)\n",
    "    fpr_a, tpr_a, thresholds_a = roc_curve(y_train_acestream, y_scores_a)\n",
    "    \n",
    "\n",
    "    plot_roc_curve(fpr_y, tpr_y, \"YouTube\")\n",
    "    plot_roc_curve(fpr_n, tpr_n, \"Netflix\")\n",
    "    plot_roc_curve(fpr_t, tpr_t, \"Twitch\")\n",
    "    plot_roc_curve(fpr_t, tpr_t, \"Acestream\")\n",
    "   \n",
    "    #plot_roc_curve(fpr_forest, tpr_forest, \"Multiclass\")\n",
    "\n",
    "    plt.legend(loc=\"lower right\")\n",
    "    plt.show()\n",
    "    #cvs = cross_val_score(random_forest, x_train, y_train, cv=10, scoring='accuracy')\n",
    "    #accuracy = sum(cvs)/len(cvs)\n",
    "    #print(\"Accuracy: \" + str(accuracy))\n",
    "    \n",
    "    cv_yt = cross_val_score(model, x_train, y_train_youtube, cv=10, scoring=\"accuracy\")\n",
    "    cv_nf = cross_val_score(model, x_train, y_train_netflix, cv=10, scoring=\"accuracy\")\n",
    "    cv_tw = cross_val_score(model, x_train, y_train_twitch, cv=10, scoring=\"accuracy\")\n",
    "    cv_ac = cross_val_score(model, x_train, y_train_acestream, cv=10, scoring=\"accuracy\")\n",
    "    \n",
    "    cv_mc = cross_val_score(model, x_train, y_train, cv=10, scoring=\"accuracy\")\n",
    "    \n",
    "    \n",
    "    print(\"YouTube: \")\n",
    "    print(\"\\tCrossValScore: \" + str(sum(cv_yt)/len(cv_yt)) + \"\\n\\tRocAucScore:  \" + str(roc_auc_score(y_train_youtube, y_scores_y)))\n",
    "    print(\"Netflix: \")\n",
    "    print(\"\\tCrossValScore: \" + str(sum(cv_nf)/len(cv_nf)) + \"\\n\\tRocAucScore:  \" + str(roc_auc_score(y_train_netflix, y_scores_n)))\n",
    "    print(\"Twitch: \")\n",
    "    print(\"\\tCrossValScore: \" + str(sum(cv_tw)/len(cv_tw)) + \"\\n\\tRocAucScore:  \" + str(roc_auc_score(y_train_twitch, y_scores_t)))\n",
    "    print(\"Acestream: \")\n",
    "    print(\"\\tCrossValScore: \" + str(sum(cv_ac)/len(cv_ac)) + \"\\n\\tRocAucScore:  \" + str(roc_auc_score(y_train_acestream, y_scores_a)))\n",
    "    \n",
    "    print(\"Multiclass: \")\n",
    "    print(\"\\tCrossValScore: \" + str(sum(cv_mc)/len(cv_mc)))\n",
    "    \n",
    "    model.fit(x_train, y_train)\n",
    "    predictions = model.predict(x_test)\n",
    "    conf_mx = confusion_matrix(y_test, predictions)\n",
    "    plt.matshow(conf_mx, cmap=plt.cm.gray)\n",
    "    \n",
    "    print(conf_mx)\n",
    "    \n",
    "    print(\"\\nAccuracy train set: \" + str(sum(model.predict(x_train) == y_train)/float(len(y_train))))\n",
    "    print(\"Accuracy test set: \" + str(sum(predictions == y_test)/float(len(y_test))))"
   ]
  },
  {
   "cell_type": "code",
   "execution_count": 16,
   "metadata": {},
   "outputs": [],
   "source": [
    "def do_test_forest_ovo(model):\n",
    "\n",
    "    cv_mc = cross_val_score(model, x_train, y_train, cv=10, scoring=\"accuracy\")\n",
    "    print(\"\\tCrossValScore: \" + str(sum(cv_mc)/len(cv_mc)))    \n",
    "  \n",
    "    \n",
    "    model.fit(x_train, y_train)\n",
    "    predictions = model.predict(x_test)\n",
    "    conf_mx = confusion_matrix(y_test, predictions)\n",
    "    plt.matshow(conf_mx, cmap=plt.cm.gray)\n",
    "    \n",
    "    print(conf_mx)    \n",
    "    print(\"\\nAccuracy train set: \" + str(sum(model.predict(x_train) == y_train)/float(len(y_train))))\n",
    "    print(\"Accuracy test set: \" + str(sum(predictions == y_test)/float(len(y_test))))"
   ]
  },
  {
   "cell_type": "code",
   "execution_count": 17,
   "metadata": {},
   "outputs": [],
   "source": [
    "from sklearn.decomposition import PCA\n",
    "\n",
    "def do_test_svm(model):    \n",
    "    \n",
    "    y_probas_y = cross_val_predict(model, x_train, y_train_youtube, cv=10, method=\"predict_proba\")\n",
    "    y_probas_n = cross_val_predict(model, x_train, y_train_netflix, cv=10, method=\"predict_proba\")\n",
    "    y_probas_t = cross_val_predict(model, x_train, y_train_twitch, cv=10, method=\"predict_proba\")\n",
    "    y_probas_a = cross_val_predict(model, x_train, y_train_acestream, cv=10, method=\"predict_proba\")\n",
    "    y_probas = cross_val_predict(model, x_train, y_train, cv=10, method=\"predict_proba\")\n",
    "    \n",
    "    y_scores_y = y_probas_y[:, 1]\n",
    "    y_scores_n = y_probas_n[:, 1]\n",
    "    y_scores_t = y_probas_t[:, 1]\n",
    "    y_scores_a = y_probas_a[:, 1]\n",
    "\n",
    "    \n",
    "    fpr_y, tpr_y, thresholds_y = roc_curve(y_train_youtube, y_scores_y)\n",
    "    fpr_n, tpr_n, thresholds_n = roc_curve(y_train_netflix, y_scores_n)\n",
    "    fpr_t, tpr_t, thresholds_t = roc_curve(y_train_twitch, y_scores_t)\n",
    "    fpr_a, tpr_a, thresholds_a = roc_curve(y_train_acestream, y_scores_a)\n",
    "    \n",
    "\n",
    "    plot_roc_curve(fpr_y, tpr_y, \"YouTube\")\n",
    "    plot_roc_curve(fpr_n, tpr_n, \"Netflix\")\n",
    "    plot_roc_curve(fpr_t, tpr_t, \"Twitch\")\n",
    "    plot_roc_curve(fpr_t, tpr_t, \"Acestream\")\n",
    "   \n",
    "    #plot_roc_curve(fpr_forest, tpr_forest, \"Multiclass\")\n",
    "\n",
    "    plt.legend(loc=\"lower right\")\n",
    "    plt.show()\n",
    "    #cvs = cross_val_score(random_forest, x_train, y_train, cv=10, scoring='accuracy')\n",
    "    #accuracy = sum(cvs)/len(cvs)\n",
    "    #print(\"Accuracy: \" + str(accuracy))\n",
    "    \n",
    "    cv_yt = cross_val_score(model, x_train, y_train_youtube, cv=10, scoring=\"accuracy\")\n",
    "    cv_nf = cross_val_score(model, x_train, y_train_netflix, cv=10, scoring=\"accuracy\")\n",
    "    cv_tw = cross_val_score(model, x_train, y_train_twitch, cv=10, scoring=\"accuracy\")\n",
    "    cv_ac = cross_val_score(model, x_train, y_train_acestream, cv=10, scoring=\"accuracy\")\n",
    "    \n",
    "    cv_mc = cross_val_score(model, x_train, y_train, cv=10, scoring=\"accuracy\")\n",
    "    \n",
    "    print(\"YouTube: \")\n",
    "    print(\"\\tCrossValScore: \" + str(sum(cv_yt)/len(cv_yt)) + \"\\n\\tRocAucScore:  \" + str(roc_auc_score(y_train_youtube, y_scores_y)))\n",
    "    print(\"Netflix: \")\n",
    "    print(\"\\tCrossValScore: \" + str(sum(cv_nf)/len(cv_nf)) + \"\\n\\tRocAucScore:  \" + str(roc_auc_score(y_train_netflix, y_scores_n)))\n",
    "    print(\"Twitch: \")\n",
    "    print(\"\\tCrossValScore: \" + str(sum(cv_tw)/len(cv_tw)) + \"\\n\\tRocAucScore:  \" + str(roc_auc_score(y_train_twitch, y_scores_t)))\n",
    "    print(\"Acestream: \")\n",
    "    print(\"\\tCrossValScore: \" + str(sum(cv_ac)/len(cv_ac)) + \"\\n\\tRocAucScore:  \" + str(roc_auc_score(y_train_acestream, y_scores_a)))\n",
    "    \n",
    "    print(\"Multiclass: \")\n",
    "    print(\"\\tCrossValScore: \" + str(sum(cv_mc)/len(cv_mc)))\n",
    "    \n",
    "    model.fit(x_train, y_train)\n",
    "    predictions = model.predict(x_test)\n",
    "    conf_mx = confusion_matrix(y_test, predictions)\n",
    "    plt.matshow(conf_mx, cmap=plt.cm.gray)\n",
    "    \n",
    "    print(conf_mx)\n",
    "    \n",
    "    print(\"\\nAccuracy train set: \" + str(sum(model.predict(x_train) == y_train)/float(len(y_train))))\n",
    "    print(\"Accuracy test set: \" + str(sum(predictions == y_test)/float(len(y_test))))"
   ]
  },
  {
   "cell_type": "code",
   "execution_count": 18,
   "metadata": {},
   "outputs": [],
   "source": [
    "from sklearn.decomposition import PCA\n",
    "\n",
    "def do_test_knn(model):    \n",
    "    \n",
    "    y_probas_y = cross_val_predict(model, x_train, y_train_youtube, cv=10, method=\"predict_proba\")\n",
    "    y_probas_n = cross_val_predict(model, x_train, y_train_netflix, cv=10, method=\"predict_proba\")\n",
    "    y_probas_t = cross_val_predict(model, x_train, y_train_twitch, cv=10, method=\"predict_proba\")\n",
    "    y_probas_a = cross_val_predict(model, x_train, y_train_acestream, cv=10, method=\"predict_proba\")\n",
    "    y_probas = cross_val_predict(model, x_train, y_train, cv=10, method=\"predict_proba\")\n",
    "    \n",
    "    y_scores_y = y_probas_y[:, 1]\n",
    "    y_scores_n = y_probas_n[:, 1]\n",
    "    y_scores_t = y_probas_t[:, 1]\n",
    "    y_scores_a = y_probas_a[:, 1]\n",
    "\n",
    "    \n",
    "    fpr_y, tpr_y, thresholds_y = roc_curve(y_train_youtube, y_scores_y)\n",
    "    fpr_n, tpr_n, thresholds_n = roc_curve(y_train_netflix, y_scores_n)\n",
    "    fpr_t, tpr_t, thresholds_t = roc_curve(y_train_twitch, y_scores_t)\n",
    "    fpr_a, tpr_a, thresholds_a = roc_curve(y_train_acestream, y_scores_a)\n",
    "    \n",
    "\n",
    "    plot_roc_curve(fpr_y, tpr_y, \"YouTube\")\n",
    "    plot_roc_curve(fpr_n, tpr_n, \"Netflix\")\n",
    "    plot_roc_curve(fpr_t, tpr_t, \"Twitch\")\n",
    "    plot_roc_curve(fpr_t, tpr_t, \"Acestream\")\n",
    "   \n",
    "    #plot_roc_curve(fpr_forest, tpr_forest, \"Multiclass\")\n",
    "\n",
    "    plt.legend(loc=\"lower right\")\n",
    "    plt.show()\n",
    "    #cvs = cross_val_score(random_forest, x_train, y_train, cv=10, scoring='accuracy')\n",
    "    #accuracy = sum(cvs)/len(cvs)\n",
    "    #print(\"Accuracy: \" + str(accuracy))\n",
    "    \n",
    "    cv_yt = cross_val_score(model, x_train, y_train_youtube, cv=10, scoring=\"accuracy\")\n",
    "    cv_nf = cross_val_score(model, x_train, y_train_netflix, cv=10, scoring=\"accuracy\")\n",
    "    cv_tw = cross_val_score(model, x_train, y_train_twitch, cv=10, scoring=\"accuracy\")\n",
    "    cv_ac = cross_val_score(model, x_train, y_train_acestream, cv=10, scoring=\"accuracy\")\n",
    "    \n",
    "    cv_mc = cross_val_score(model, x_train, y_train, cv=10, scoring=\"accuracy\")\n",
    "    \n",
    "    print(\"YouTube: \")\n",
    "    print(\"\\tCrossValScore: \" + str(sum(cv_yt)/len(cv_yt)) + \"\\n\\tRocAucScore:  \" + str(roc_auc_score(y_train_youtube, y_scores_y)))\n",
    "    print(\"Netflix: \")\n",
    "    print(\"\\tCrossValScore: \" + str(sum(cv_nf)/len(cv_nf)) + \"\\n\\tRocAucScore:  \" + str(roc_auc_score(y_train_netflix, y_scores_n)))\n",
    "    print(\"Twitch: \")\n",
    "    print(\"\\tCrossValScore: \" + str(sum(cv_tw)/len(cv_tw)) + \"\\n\\tRocAucScore:  \" + str(roc_auc_score(y_train_twitch, y_scores_t)))\n",
    "    print(\"Acestream: \")\n",
    "    print(\"\\tCrossValScore: \" + str(sum(cv_ac)/len(cv_ac)) + \"\\n\\tRocAucScore:  \" + str(roc_auc_score(y_train_acestream, y_scores_a)))\n",
    "    \n",
    "    print(\"Multiclass: \")\n",
    "    print(\"\\tCrossValScore: \" + str(sum(cv_mc)/len(cv_mc)))\n",
    "    \n",
    "    model.fit(x_train, y_train)\n",
    "    predictions = model.predict(x_test)\n",
    "    conf_mx = confusion_matrix(y_test, predictions)\n",
    "    plt.matshow(conf_mx, cmap=plt.cm.gray)\n",
    "    \n",
    "    print(conf_mx)\n",
    "    \n",
    "    print(\"\\nAccuracy train set: \" + str(sum(model.predict(x_train) == y_train)/float(len(y_train))))\n",
    "    print(\"Accuracy test set: \" + str(sum(predictions == y_test)/float(len(y_test))))"
   ]
  },
  {
   "cell_type": "code",
   "execution_count": 19,
   "metadata": {
    "scrolled": true
   },
   "outputs": [
    {
     "name": "stdout",
     "output_type": "stream",
     "text": [
      "-----Random Forest------\n"
     ]
    },
    {
     "data": {
      "image/png": "[encoded data removed]",
      "text/plain": [
       "<Figure size 432x288 with 1 Axes>"
      ]
     },
     "metadata": {},
     "output_type": "display_data"
    },
    {
     "name": "stdout",
     "output_type": "stream",
     "text": [
      "YouTube: \n",
      "\tCrossValScore: 0.8947682927689012\n",
      "\tRocAucScore:  0.9518726407699829\n",
      "Netflix: \n",
      "\tCrossValScore: 0.9142157791214395\n",
      "\tRocAucScore:  0.9605143696876668\n",
      "Twitch: \n",
      "\tCrossValScore: 0.9964944842242469\n",
      "\tRocAucScore:  0.9996343499126342\n",
      "Acestream: \n",
      "\tCrossValScore: 0.9735636697474799\n",
      "\tRocAucScore:  0.9876392609705809\n",
      "Multiclass: \n",
      "\tCrossValScore: 0.90127369244436\n",
      "[[315  36   0  11]\n",
      " [ 40 249   0   9]\n",
      " [  0   2 140   0]\n",
      " [  9   2   0 114]]\n",
      "\n",
      "Accuracy train set: 0.990558403021311\n",
      "Accuracy test set: 0.8824163969795038\n",
      "-----OvO Classifier Random Forest------\n",
      "\tCrossValScore: 0.8907439696054912\n",
      "[[324  30   1   7]\n",
      " [ 42 251   0   5]\n",
      " [  1   0 141   0]\n",
      " [ 15   5   0 105]]\n",
      "\n",
      "Accuracy train set: 0.9873212840571891\n",
      "Accuracy test set: 0.8856526429341963\n",
      "-----OvR Classifier Random Forest------\n",
      "\tCrossValScore: 0.8996259699625897\n",
      "[[297  44   3  18]\n",
      " [ 31 260   0   7]\n",
      " [  0   0 142   0]\n",
      " [  9   2   1 113]]\n",
      "\n",
      "Accuracy train set: 0.9910979228486647\n",
      "Accuracy test set: 0.8759439050701187\n",
      "----------SVM-----------\n"
     ]
    },
    {
     "data": {
      "image/png": "[encoded data removed]",
      "text/plain": [
       "<Figure size 288x288 with 1 Axes>"
      ]
     },
     "metadata": {},
     "output_type": "display_data"
    },
    {
     "data": {
      "image/png": "[encoded data removed]",
      "text/plain": [
       "<Figure size 288x288 with 1 Axes>"
      ]
     },
     "metadata": {},
     "output_type": "display_data"
    },
    {
     "data": {
      "image/png": "[encoded data removed]",
      "text/plain": [
       "<Figure size 288x288 with 1 Axes>"
      ]
     },
     "metadata": {},
     "output_type": "display_data"
    },
    {
     "name": "stdout",
     "output_type": "stream",
     "text": [
      "YouTube: \n",
      "\tCrossValScore: 0.8605435367547358\n",
      "\tRocAucScore:  0.9240069772244881\n",
      "Netflix: \n",
      "\tCrossValScore: 0.9047716179791652\n",
      "\tRocAucScore:  0.9419432543799645\n",
      "Twitch: \n",
      "\tCrossValScore: 0.9989247311827956\n",
      "\tRocAucScore:  0.9999752191000632\n",
      "Acestream: \n",
      "\tCrossValScore: 0.9541449118016374\n",
      "\tRocAucScore:  0.9782673784485926\n",
      "Multiclass: \n",
      "\tCrossValScore: 0.861888590093503\n",
      "[[292  31   0  39]\n",
      " [ 63 231   0   4]\n",
      " [  0   0 142   0]\n",
      " [ 14   1   0 110]]\n",
      "\n",
      "Accuracy train set: 0.8715942810898301\n",
      "Accuracy test set: 0.8360302049622438\n",
      "----------Knn-----------\n"
     ]
    },
    {
     "data": {
      "image/png": "[encoded data removed]",
      "text/plain": [
       "<Figure size 288x288 with 1 Axes>"
      ]
     },
     "metadata": {},
     "output_type": "display_data"
    },
    {
     "name": "stdout",
     "output_type": "stream",
     "text": [
      "YouTube: \n",
      "\tCrossValScore: 0.8845459775922343\n",
      "\tRocAucScore:  0.9375847580988308\n",
      "Netflix: \n",
      "\tCrossValScore: 0.9053136155022947\n",
      "\tRocAucScore:  0.9468632482269039\n",
      "Twitch: \n",
      "\tCrossValScore: 0.9973009319205302\n",
      "\tRocAucScore:  0.9989982189387236\n",
      "Acestream: \n",
      "\tCrossValScore: 0.9665453650328878\n",
      "\tRocAucScore:  0.9769638395431208\n",
      "Multiclass: \n",
      "\tCrossValScore: 0.8767202812589836\n",
      "[[310  31   0  21]\n",
      " [ 60 235   1   2]\n",
      " [  0   0 142   0]\n",
      " [ 21   1   0 103]]\n",
      "\n",
      "Accuracy train set: 0.9063933099541408\n",
      "Accuracy test set: 0.8522114347357066\n",
      "-----Neural Network-----\n"
     ]
    },
    {
     "data": {
      "image/png": "[encoded data removed]",
      "text/plain": [
       "<Figure size 288x288 with 1 Axes>"
      ]
     },
     "metadata": {},
     "output_type": "display_data"
    },
    {
     "name": "stdout",
     "output_type": "stream",
     "text": [
      "YouTube: \n",
      "\tCrossValScore: 0.9015337757547129\n",
      "\tRocAucScore:  0.960579708071335\n",
      "Netflix: \n",
      "\tCrossValScore: 0.9333649012894296\n",
      "\tRocAucScore:  0.9737643966891296\n",
      "Twitch: \n",
      "\tCrossValScore: 0.9994609125254286\n",
      "\tRocAucScore:  0.9999942002149084\n",
      "Acestream: \n",
      "\tCrossValScore: 0.9754562744641868\n",
      "\tRocAucScore:  0.9912968839275091\n",
      "Multiclass: \n",
      "\tCrossValScore: 0.9045010575233802\n",
      "[[310  38   0  14]\n",
      " [ 26 268   0   4]\n",
      " [  1   0 141   0]\n",
      " [ 14   2   0 109]]\n",
      "\n",
      "Accuracy train set: 0.9487456164014028\n",
      "Accuracy test set: 0.8932038834951457\n",
      "--------AdaBoost Random Forest--------\n"
     ]
    },
    {
     "data": {
      "image/png": "[encoded data removed]",
      "text/plain": [
       "<Figure size 288x288 with 1 Axes>"
      ]
     },
     "metadata": {},
     "output_type": "display_data"
    },
    {
     "name": "stdout",
     "output_type": "stream",
     "text": [
      "YouTube: \n",
      "\tCrossValScore: 0.9217640769192809\n",
      "\tRocAucScore:  0.9682967385705648\n",
      "Netflix: \n",
      "\tCrossValScore: 0.9333649012894295\n",
      "\tRocAucScore:  0.9770561204952558\n",
      "Twitch: \n",
      "\tCrossValScore: 0.9970342923568729\n",
      "\tRocAucScore:  0.9998895404566646\n",
      "Acestream: \n",
      "\tCrossValScore: 0.9789588958578612\n",
      "\tRocAucScore:  0.9915949851014787\n",
      "Multiclass: \n",
      "\tCrossValScore: 0.9153010705018592\n",
      "[[323  33   1   5]\n",
      " [ 34 260   0   4]\n",
      " [  0   0 142   0]\n",
      " [ 13   2   1 109]]\n",
      "\n",
      "Accuracy train set: 0.9870515241435123\n",
      "Accuracy test set: 0.8996763754045307\n",
      "---------Decision Tree------\n"
     ]
    },
    {
     "data": {
      "image/png": "[encoded data removed]",
      "text/plain": [
       "<Figure size 288x288 with 1 Axes>"
      ]
     },
     "metadata": {},
     "output_type": "display_data"
    },
    {
     "name": "stdout",
     "output_type": "stream",
     "text": [
      "YouTube: \n",
      "\tCrossValScore: 0.8573002974281124\n",
      "\tRocAucScore:  0.8542292891641513\n",
      "Netflix: \n",
      "\tCrossValScore: 0.8869629197931085\n",
      "\tRocAucScore:  0.8754242502593778\n",
      "Twitch: \n",
      "\tCrossValScore: 0.9919042527441798\n",
      "\tRocAucScore:  0.9879572735104833\n",
      "Acestream: \n",
      "\tCrossValScore: 0.9641201979303015\n",
      "\tRocAucScore:  0.9153614934345831\n",
      "Multiclass: \n",
      "\tCrossValScore: 0.8546398830125878\n",
      "[[295  51   2  14]\n",
      " [ 48 239   0  11]\n",
      " [  1   1 138   2]\n",
      " [ 12   5   3 105]]\n",
      "\n",
      "Accuracy train set: 0.9932560021580793\n",
      "Accuracy test set: 0.8381877022653722\n",
      "--------AdaBoost Decision Tree--------\n"
     ]
    },
    {
     "data": {
      "image/png": "[encoded data removed]",
      "text/plain": [
       "<Figure size 288x288 with 1 Axes>"
      ]
     },
     "metadata": {},
     "output_type": "display_data"
    },
    {
     "name": "stdout",
     "output_type": "stream",
     "text": [
      "YouTube: \n",
      "\tCrossValScore: 0.8985753295248122\n",
      "\tRocAucScore:  0.9561942151742191\n",
      "Netflix: \n",
      "\tCrossValScore: 0.925279376411452\n",
      "\tRocAucScore:  0.9683155014580789\n",
      "Twitch: \n",
      "\tCrossValScore: 0.992983152267997\n",
      "\tRocAucScore:  0.9895809497095363\n",
      "Acestream: \n",
      "\tCrossValScore: 0.9638564566653429\n",
      "\tRocAucScore:  0.9156455393996923\n",
      "Multiclass: \n",
      "\tCrossValScore: 0.9101891533412798\n",
      "[[317  37   2   6]\n",
      " [ 35 259   0   4]\n",
      " [  1   0 141   0]\n",
      " [ 14   2   1 108]]\n",
      "\n",
      "Accuracy train set: 0.9932560021580793\n",
      "Accuracy test set: 0.889967637540453\n"
     ]
    },
    {
     "data": {
      "image/png": "[encoded data removed]",
      "text/plain": [
       "<Figure size 288x288 with 1 Axes>"
      ]
     },
     "metadata": {},
     "output_type": "display_data"
    }
   ],
   "source": [
    "from sklearn.svm import SVC\n",
    "from sklearn.neighbors import KNeighborsClassifier\n",
    "from sklearn.neural_network import MLPClassifier\n",
    "from sklearn.ensemble import AdaBoostClassifier\n",
    "from sklearn.multiclass import OneVsOneClassifier, OneVsRestClassifier\n",
    "from sklearn.tree import DecisionTreeClassifier\n",
    "\n",
    "print(\"-----Random Forest------\")\n",
    "rf = RandomForestClassifier(random_state=14)\n",
    "\n",
    "do_test_forest(rf)\n",
    "\n",
    "print(\"-----OvO Classifier Random Forest------\")\n",
    "\n",
    "rf = OneVsOneClassifier(rf)\n",
    "do_test_forest_ovo(rf)\n",
    "\n",
    "print(\"-----OvR Classifier Random Forest------\")\n",
    "\n",
    "rf = OneVsRestClassifier(rf)\n",
    "do_test_forest_ovo(rf)\n",
    "\n",
    "print(\"----------SVM-----------\")\n",
    "svm = SVC(random_state=42, probability=True)\n",
    "do_test_svm(svm)\n",
    "\n",
    "\n",
    "print(\"----------Knn-----------\")\n",
    "knn = KNeighborsClassifier()\n",
    "do_test_knn(knn)\n",
    "\n",
    "print(\"-----Neural Network-----\")\n",
    "nn = MLPClassifier(max_iter=1000)\n",
    "do_test_knn(nn)\n",
    "\n",
    "\n",
    "print(\"--------AdaBoost Random Forest--------\")\n",
    "\n",
    "rf = RandomForestClassifier(bootstrap=True, class_weight=None, criterion='entropy', max_depth=9,\n",
    "                            max_features='log2', max_leaf_nodes=None, min_impurity_decrease=0.0,\n",
    "                            min_impurity_split=None, min_samples_leaf=1, min_samples_split=2,\n",
    "                            min_weight_fraction_leaf=0.0, n_estimators=30, n_jobs=1, oob_score=False,\n",
    "                            random_state=42, verbose=0, warm_start=False)\n",
    "\n",
    "ada_clf = AdaBoostClassifier(\n",
    "    rf,\n",
    "    algorithm=\"SAMME.R\", learning_rate=0.5\n",
    ")\n",
    "do_test_forest(ada_clf)\n",
    "\n",
    "print(\"---------Decision Tree------\")\n",
    "dt = DecisionTreeClassifier(random_state=42)\n",
    "\n",
    "do_test_forest(dt)\n",
    "\n",
    "print(\"--------AdaBoost Decision Tree--------\")\n",
    "\n",
    "dt = DecisionTreeClassifier(random_state=42)\n",
    "\n",
    "ada_clf = AdaBoostClassifier(\n",
    "    dt,\n",
    "    algorithm=\"SAMME.R\", learning_rate=0.5\n",
    ")\n",
    "do_test_forest(ada_clf)\n",
    "\n"
   ]
  },
  {
   "cell_type": "code",
   "execution_count": null,
   "metadata": {},
   "outputs": [],
   "source": []
  },
  {
   "cell_type": "code",
   "execution_count": null,
   "metadata": {},
   "outputs": [],
   "source": []
  }
 ],
 "metadata": {
  "kernelspec": {
   "display_name": "Python 3",
   "language": "python",
   "name": "python3"
  },
  "language_info": {
   "codemirror_mode": {
    "name": "ipython",
    "version": 3
   },
   "file_extension": ".py",
   "mimetype": "text/x-python",
   "name": "python",
   "nbconvert_exporter": "python",
   "pygments_lexer": "ipython3",
   "version": "3.6.5"
  }
 },
 "nbformat": 4,
 "nbformat_minor": 2
}
