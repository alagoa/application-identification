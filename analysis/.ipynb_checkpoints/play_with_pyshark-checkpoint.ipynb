{
 "cells": [
  {
   "cell_type": "code",
   "execution_count": 12,
   "metadata": {},
   "outputs": [],
   "source": [
    "import pyshark as ps\n",
    "import numpy as np\n",
    "import re\n",
    "import pprint as pp\n",
    "from datetime import datetime\n",
    "from collections import OrderedDict, defaultdict\n",
    "import scalogram"
   ]
  },
  {
   "cell_type": "code",
   "execution_count": 5,
   "metadata": {},
   "outputs": [],
   "source": [
    "cap = ps.FileCapture(\"../../../shared/split.pcapng\", only_summaries=True)\n",
    "#summary_description = ['delta', 'destination', 'info', 'ip id', 'length', 'no', 'protocol', 'source', 'stream', 'summary_line', 'time', 'window']"
   ]
  },
  {
   "cell_type": "code",
   "execution_count": 6,
   "metadata": {},
   "outputs": [],
   "source": [
    "cap = ps.FileCapture(\"../../../shared/split.pcapng\")"
   ]
  },
  {
   "cell_type": "code",
   "execution_count": 7,
   "metadata": {
    "scrolled": true
   },
   "outputs": [
    {
     "name": "stdout",
     "output_type": "stream",
     "text": [
      "212.113.167.177\n"
     ]
    }
   ],
   "source": [
    "tcp_1 = cap[0]\n",
    "ssl_1 = cap[1]\n",
    "time = (ssl_1.sniff_time.toordinal(), int(ssl_1.sniff_time.timestamp()))\n",
    "print(ssl_1.ip.dst.get_default_value())"
   ]
  },
  {
   "cell_type": "code",
   "execution_count": 8,
   "metadata": {},
   "outputs": [],
   "source": [
    "private_ip_pattern = re.compile(\"(^127\\.)|(^10\\.)|(^172\\.1[6-9]\\.)|(^172\\.2[0-9]\\.)|(^172\\.3[0-1]\\.)|(^192\\.168\\.)\")\n",
    "\n",
    "download = defaultdict(list)\n",
    "upload = defaultdict(list)\n",
    "up_count = 0\n",
    "down_count = 0\n",
    "for pkt in cap:\n",
    "    if hasattr(pkt, 'ip'):\n",
    "        if private_ip_pattern.match(pkt.ip.src.get_default_value()):\n",
    "            up_count += 1\n",
    "            upload[pkt.sniff_time.toordinal(), int(pkt.sniff_time.timestamp())].append(pkt)\n",
    "        elif private_ip_pattern.match(pkt.ip.dst.get_default_value()):\n",
    "            down_count += 1\n",
    "            download[pkt.sniff_time.toordinal(), int(pkt.sniff_time.timestamp())].append(pkt)\n",
    "        else:\n",
    "            print(\"Curious!\\n\", pkt)\n",
    "    elif hasattr(pkt, 'ipv6'):\n",
    "        print(\"not yet implemented\")\n",
    "        # TODO    \n",
    "up_ordered = OrderedDict(sorted(upload.items(), key=lambda t: t[0]))\n",
    "down_ordered= OrderedDict(sorted(download.items(), key=lambda t: t[0]))"
   ]
  },
  {
   "cell_type": "code",
   "execution_count": 9,
   "metadata": {},
   "outputs": [
    {
     "name": "stdout",
     "output_type": "stream",
     "text": [
      "Uploaded:  3668\n",
      "Download:  3832\n"
     ]
    }
   ],
   "source": [
    "print(\"Uploaded: \", up_count)\n",
    "print(\"Download: \", down_count)"
   ]
  },
  {
   "cell_type": "code",
   "execution_count": 10,
   "metadata": {},
   "outputs": [
    {
     "name": "stdout",
     "output_type": "stream",
     "text": [
      "{'down': defaultdict(<class 'list'>,\n",
      "                     {'byte_count': [121480,\n",
      "                                     1903440,\n",
      "                                     2820620,\n",
      "                                     1453413,\n",
      "                                     929,\n",
      "                                     965592,\n",
      "                                     1300822,\n",
      "                                     1797049,\n",
      "                                     1556011,\n",
      "                                     2526706,\n",
      "                                     542824],\n",
      "                      'packet_count': [24,\n",
      "                                       336,\n",
      "                                       642,\n",
      "                                       290,\n",
      "                                       6,\n",
      "                                       216,\n",
      "                                       385,\n",
      "                                       567,\n",
      "                                       539,\n",
      "                                       723,\n",
      "                                       104]}),\n",
      " 'up': defaultdict(<class 'list'>,\n",
      "                   {'byte_count': [1296,\n",
      "                                   17116,\n",
      "                                   32722,\n",
      "                                   14256,\n",
      "                                   1390,\n",
      "                                   13723,\n",
      "                                   20520,\n",
      "                                   31302,\n",
      "                                   29000,\n",
      "                                   36666,\n",
      "                                   5346],\n",
      "                    'packet_count': [24,\n",
      "                                     314,\n",
      "                                     603,\n",
      "                                     264,\n",
      "                                     5,\n",
      "                                     214,\n",
      "                                     380,\n",
      "                                     559,\n",
      "                                     527,\n",
      "                                     679,\n",
      "                                     99]})}\n"
     ]
    }
   ],
   "source": [
    "# Now we'll use reduces in each list to get good juicy info\n",
    "stats = {}\n",
    "up = defaultdict(list)\n",
    "down = defaultdict(list)\n",
    "byte_count = defaultdict(list)\n",
    "\n",
    "for pkts in up_ordered.values():\n",
    "    up['byte_count'].append(sum(int(pkt.captured_length) for pkt in pkts))\n",
    "    up['packet_count'].append(len(pkts))\n",
    "for pkts in down_ordered.values():\n",
    "    down['byte_count'].append(sum(int(pkt.captured_length) for pkt in pkts))\n",
    "    down['packet_count'].append(len(pkts))\n",
    "stats['up'] = up\n",
    "stats['down'] = down\n",
    "pp.pprint(stats)"
   ]
  },
  {
   "cell_type": "code",
   "execution_count": 38,
   "metadata": {},
   "outputs": [],
   "source": [
    "def calcScalogram(data):    \n",
    "    N=11\n",
    "    dj=1/128\n",
    "    s0=2\n",
    "    J=1/dj * np.log2(0.5*N/s0)\n",
    "    scales=s0*2**(np.arange(J)*dj)\n",
    "    \n",
    "    print(scales)\n",
    "\n",
    "    allS=np.zeros((10,len(scales)))\n",
    "    for i in range(11):\n",
    "        S,scales=scalogram.scalogramCWT(data[:,i],scales)\n",
    "        allS[i,:]=S\n",
    "\n",
    "    average=np.mean(allS,axis=0)\n",
    "    return average,scales\n"
   ]
  },
  {
   "cell_type": "code",
   "execution_count": 39,
   "metadata": {},
   "outputs": [
    {
     "name": "stdout",
     "output_type": "stream",
     "text": [
      "[2.         2.37841423 2.82842712 3.36358566 4.         4.75682846\n",
      " 5.65685425 6.72717132 8.         9.51365692]\n"
     ]
    },
    {
     "ename": "IndexError",
     "evalue": "too many indices for array",
     "output_type": "error",
     "traceback": [
      "\u001b[0;31m---------------------------------------------------------------------------\u001b[0m",
      "\u001b[0;31mIndexError\u001b[0m                                Traceback (most recent call last)",
      "\u001b[0;32m<ipython-input-39-1504a2d86801>\u001b[0m in \u001b[0;36m<module>\u001b[0;34m()\u001b[0m\n\u001b[1;32m      1\u001b[0m \u001b[0mdown\u001b[0m \u001b[0;34m=\u001b[0m \u001b[0mnp\u001b[0m\u001b[0;34m.\u001b[0m\u001b[0masarray\u001b[0m\u001b[0;34m(\u001b[0m\u001b[0mstats\u001b[0m\u001b[0;34m[\u001b[0m\u001b[0;34m'down'\u001b[0m\u001b[0;34m]\u001b[0m\u001b[0;34m[\u001b[0m\u001b[0;34m'byte_count'\u001b[0m\u001b[0;34m]\u001b[0m\u001b[0;34m)\u001b[0m\u001b[0;34m\u001b[0m\u001b[0m\n\u001b[0;32m----> 2\u001b[0;31m \u001b[0mcalcScalogram\u001b[0m\u001b[0;34m(\u001b[0m\u001b[0mdown\u001b[0m\u001b[0;34m)\u001b[0m\u001b[0;34m\u001b[0m\u001b[0m\n\u001b[0m",
      "\u001b[0;32m<ipython-input-38-6a34f47d8977>\u001b[0m in \u001b[0;36mcalcScalogram\u001b[0;34m(data)\u001b[0m\n\u001b[1;32m     10\u001b[0m     \u001b[0mallS\u001b[0m\u001b[0;34m=\u001b[0m\u001b[0mnp\u001b[0m\u001b[0;34m.\u001b[0m\u001b[0mzeros\u001b[0m\u001b[0;34m(\u001b[0m\u001b[0;34m(\u001b[0m\u001b[0;36m10\u001b[0m\u001b[0;34m,\u001b[0m\u001b[0mlen\u001b[0m\u001b[0;34m(\u001b[0m\u001b[0mscales\u001b[0m\u001b[0;34m)\u001b[0m\u001b[0;34m)\u001b[0m\u001b[0;34m)\u001b[0m\u001b[0;34m\u001b[0m\u001b[0m\n\u001b[1;32m     11\u001b[0m     \u001b[0;32mfor\u001b[0m \u001b[0mi\u001b[0m \u001b[0;32min\u001b[0m \u001b[0mrange\u001b[0m\u001b[0;34m(\u001b[0m\u001b[0;36m11\u001b[0m\u001b[0;34m)\u001b[0m\u001b[0;34m:\u001b[0m\u001b[0;34m\u001b[0m\u001b[0m\n\u001b[0;32m---> 12\u001b[0;31m         \u001b[0mS\u001b[0m\u001b[0;34m,\u001b[0m\u001b[0mscales\u001b[0m\u001b[0;34m=\u001b[0m\u001b[0mscalogram\u001b[0m\u001b[0;34m.\u001b[0m\u001b[0mscalogramCWT\u001b[0m\u001b[0;34m(\u001b[0m\u001b[0mdata\u001b[0m\u001b[0;34m[\u001b[0m\u001b[0;34m:\u001b[0m\u001b[0;34m,\u001b[0m\u001b[0mi\u001b[0m\u001b[0;34m]\u001b[0m\u001b[0;34m,\u001b[0m\u001b[0mscales\u001b[0m\u001b[0;34m)\u001b[0m\u001b[0;34m\u001b[0m\u001b[0m\n\u001b[0m\u001b[1;32m     13\u001b[0m         \u001b[0mallS\u001b[0m\u001b[0;34m[\u001b[0m\u001b[0mi\u001b[0m\u001b[0;34m,\u001b[0m\u001b[0;34m:\u001b[0m\u001b[0;34m]\u001b[0m\u001b[0;34m=\u001b[0m\u001b[0mS\u001b[0m\u001b[0;34m\u001b[0m\u001b[0m\n\u001b[1;32m     14\u001b[0m \u001b[0;34m\u001b[0m\u001b[0m\n",
      "\u001b[0;31mIndexError\u001b[0m: too many indices for array"
     ]
    }
   ],
   "source": [
    "down = np.asarray(stats['down']['byte_count'])\n",
    "calcScalogram(down)"
   ]
  },
  {
   "cell_type": "code",
   "execution_count": null,
   "metadata": {},
   "outputs": [],
   "source": []
  }
 ],
 "metadata": {
  "kernelspec": {
   "display_name": "Python 3",
   "language": "python",
   "name": "python3"
  }
 },
 "nbformat": 4,
 "nbformat_minor": 2
}
