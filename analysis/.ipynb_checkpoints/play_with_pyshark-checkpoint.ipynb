{
 "cells": [
  {
   "cell_type": "code",
   "execution_count": 20,
   "metadata": {},
   "outputs": [],
   "source": [
    "import pyshark as ps\n",
    "import re\n",
    "from datetime import datetime\n",
    "from collections import OrderedDict, defaultdict\n"
   ]
  },
  {
   "cell_type": "code",
   "execution_count": 3,
   "metadata": {},
   "outputs": [],
   "source": [
    "cap = ps.FileCapture(\"../shared/test.pcapng\", only_summaries=True)\n",
    "#summary_description = ['delta', 'destination', 'info', 'ip id', 'length', 'no', 'protocol', 'source', 'stream', 'summary_line', 'time', 'window']"
   ]
  },
  {
   "cell_type": "code",
   "execution_count": 4,
   "metadata": {},
   "outputs": [],
   "source": [
    "cap = ps.FileCapture(\"../shared/test.pcapng\")"
   ]
  },
  {
   "cell_type": "code",
   "execution_count": 17,
   "metadata": {},
   "outputs": [
    {
     "name": "stdout",
     "output_type": "stream",
     "text": [
      "10.0.2.15\n"
     ]
    }
   ],
   "source": [
    "tcp_1 = cap[0]\n",
    "ssl_1 = cap[1]\n",
    "time = (ssl_1.sniff_time.toordinal(), int(ssl_1.sniff_time.timestamp()))\n",
    "print(ssl_1.ip.dst.get_default_value())"
   ]
  },
  {
   "cell_type": "code",
   "execution_count": 23,
   "metadata": {},
   "outputs": [],
   "source": [
    "private_ip_pattern = re.compile(\"(^127\\.)|(^10\\.)|(^172\\.1[6-9]\\.)|(^172\\.2[0-9]\\.)|(^172\\.3[0-1]\\.)|(^192\\.168\\.)\")\n",
    "\n",
    "download = defaultdict(list)\n",
    "upload = defaultdict(list)\n",
    "up_count = 0\n",
    "down_count = 0\n",
    "\n",
    "for pkt in cap:\n",
    "    if(private_ip_pattern.match(pkt.ip.src.get_default_value())):\n",
    "        up_count += 1\n",
    "        upload[pkt.sniff_time.toordinal(), int(pkt.sniff_time.timestamp())].append(pkt)\n",
    "    elif(private_ip_pattern.match(pkt.ip.dst.get_default_value())):\n",
    "        down_count += 1\n",
    "        download[pkt.sniff_time.toordinal(), int(pkt.sniff_time.timestamp())].append(pkt)\n",
    "    else:\n",
    "        print(\"Curious!\\n\", pkt)\n",
    "        \n",
    "up_ordered = OrderedDict(sorted(upload.items(), key=lambda t: t[0]))\n",
    "down_ordered= OrderedDict(sorted(download.items(), key=lambda t: t[0]))"
   ]
  },
  {
   "cell_type": "code",
   "execution_count": 26,
   "metadata": {},
   "outputs": [
    {
     "name": "stdout",
     "output_type": "stream",
     "text": [
      "Uploaded:  495\n",
      "Download:  505\n"
     ]
    }
   ],
   "source": [
    "print(\"Uploaded: \", up_count)\n",
    "print(\"Download: \", down_count)"
   ]
  },
  {
   "cell_type": "code",
   "execution_count": 27,
   "metadata": {},
   "outputs": [],
   "source": [
    "# Now we'll use reduces in each list to get good juicy info"
   ]
  },
  {
   "cell_type": "code",
   "execution_count": null,
   "metadata": {},
   "outputs": [],
   "source": []
  }
 ],
 "metadata": {
  "kernelspec": {
   "display_name": "Python 3",
   "language": "python",
   "name": "python3"
  },
  "language_info": {
   "codemirror_mode": {
    "name": "ipython",
    "version": 3
   },
   "file_extension": ".py",
   "mimetype": "text/x-python",
   "name": "python",
   "nbconvert_exporter": "python",
   "pygments_lexer": "ipython3",
   "version": "3.6.5"
  }
 },
 "nbformat": 4,
 "nbformat_minor": 2
}
