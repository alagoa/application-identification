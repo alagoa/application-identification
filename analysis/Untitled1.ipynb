{
 "cells": [
  {
   "cell_type": "code",
   "execution_count": 18,
   "metadata": {},
   "outputs": [],
   "source": [
    "from itertools import groupby\n",
    "def count_consecutive_zeros(data):\n",
    "    max_run = 0\n",
    "    totalcount = data.count(0)\n",
    "    if totalcount:\n",
    "        max_run = max(sum(1 for _ in g) for k, g in groupby(data) if k == 0)"
   ]
  },
  {
   "cell_type": "code",
   "execution_count": 21,
   "metadata": {},
   "outputs": [
    {
     "name": "stdout",
     "output_type": "stream",
     "text": [
      "2\n"
     ]
    }
   ],
   "source": [
    "l = [769788, 213790, 19171, 267801, 12065, 659808, 37996, 26544, 0, 8005, 0, 60, 2742, 0, 180, 20099, 0, 0, 23479, 46157, 33080, 240043, 27070, 712874, 272977, 379132, 441242, 343879, 28195, 340350]\n",
    "\n",
    "print()"
   ]
  },
  {
   "cell_type": "code",
   "execution_count": null,
   "metadata": {},
   "outputs": [],
   "source": []
  }
 ],
 "metadata": {
  "kernelspec": {
   "display_name": "Python 3",
   "language": "python",
   "name": "python3"
  },
  "language_info": {
   "codemirror_mode": {
    "name": "ipython",
    "version": 3
   },
   "file_extension": ".py",
   "mimetype": "text/x-python",
   "name": "python",
   "nbconvert_exporter": "python",
   "pygments_lexer": "ipython3",
   "version": "3.6.5"
  }
 },
 "nbformat": 4,
 "nbformat_minor": 2
}
