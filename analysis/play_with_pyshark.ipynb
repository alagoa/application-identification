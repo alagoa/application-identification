{
 "cells": [
  {
   "cell_type": "code",
   "execution_count": 61,
   "metadata": {},
   "outputs": [],
   "source": [
    "import pyshark as ps\n",
    "import matplotlib.pyplot as plt\n",
    "import numpy as np\n",
    "import re\n",
    "import pprint as pp\n",
    "from datetime import datetime\n",
    "from collections import OrderedDict, defaultdict\n",
    "from scalogram import *"
   ]
  },
  {
   "cell_type": "code",
   "execution_count": 48,
   "metadata": {},
   "outputs": [],
   "source": [
    "cap = ps.FileCapture(\"../../../shared/split.pcapng\", only_summaries=True)\n",
    "#summary_description = ['delta', 'destination', 'info', 'ip id', 'length', 'no', 'protocol', 'source', 'stream', 'summary_line', 'time', 'window']"
   ]
  },
  {
   "cell_type": "code",
   "execution_count": 6,
   "metadata": {},
   "outputs": [],
   "source": [
    "cap = ps.FileCapture(\"../../../shared/split.pcapng\")"
   ]
  },
  {
   "cell_type": "code",
   "execution_count": 7,
   "metadata": {
    "scrolled": true
   },
   "outputs": [
    {
     "name": "stdout",
     "output_type": "stream",
     "text": [
      "212.113.167.177\n"
     ]
    }
   ],
   "source": [
    "tcp_1 = cap[0]\n",
    "ssl_1 = cap[1]\n",
    "time = (ssl_1.sniff_time.toordinal(), int(ssl_1.sniff_time.timestamp()))\n",
    "print(ssl_1.ip.dst.get_default_value())"
   ]
  },
  {
   "cell_type": "code",
   "execution_count": 8,
   "metadata": {},
   "outputs": [],
   "source": [
    "private_ip_pattern = re.compile(\"(^127\\.)|(^10\\.)|(^172\\.1[6-9]\\.)|(^172\\.2[0-9]\\.)|(^172\\.3[0-1]\\.)|(^192\\.168\\.)\")\n",
    "\n",
    "download = defaultdict(list)\n",
    "upload = defaultdict(list)\n",
    "up_count = 0\n",
    "down_count = 0\n",
    "for pkt in cap:\n",
    "    if hasattr(pkt, 'ip'):\n",
    "        if private_ip_pattern.match(pkt.ip.src.get_default_value()):\n",
    "            up_count += 1\n",
    "            upload[pkt.sniff_time.toordinal(), int(pkt.sniff_time.timestamp())].append(pkt)\n",
    "        elif private_ip_pattern.match(pkt.ip.dst.get_default_value()):\n",
    "            down_count += 1\n",
    "            download[pkt.sniff_time.toordinal(), int(pkt.sniff_time.timestamp())].append(pkt)\n",
    "        else:\n",
    "            print(\"Curious!\\n\", pkt)\n",
    "    elif hasattr(pkt, 'ipv6'):\n",
    "        print(\"not yet implemented\")\n",
    "        # TODO    \n",
    "up_ordered = OrderedDict(sorted(upload.items(), key=lambda t: t[0]))\n",
    "down_ordered= OrderedDict(sorted(download.items(), key=lambda t: t[0]))"
   ]
  },
  {
   "cell_type": "code",
   "execution_count": 49,
   "metadata": {},
   "outputs": [
    {
     "name": "stdout",
     "output_type": "stream",
     "text": [
      "Uploaded:  3668\n",
      "Download:  3832\n"
     ]
    }
   ],
   "source": [
    "print(\"Uploaded: \", up_count)\n",
    "print(\"Download: \", down_count)"
   ]
  },
  {
   "cell_type": "code",
   "execution_count": 50,
   "metadata": {},
   "outputs": [
    {
     "name": "stdout",
     "output_type": "stream",
     "text": [
      "{'down': defaultdict(<class 'list'>,\n",
      "                     {'byte_count': [121480,\n",
      "                                     1903440,\n",
      "                                     2820620,\n",
      "                                     1453413,\n",
      "                                     929,\n",
      "                                     965592,\n",
      "                                     1300822,\n",
      "                                     1797049,\n",
      "                                     1556011,\n",
      "                                     2526706,\n",
      "                                     542824],\n",
      "                      'packet_count': [24,\n",
      "                                       336,\n",
      "                                       642,\n",
      "                                       290,\n",
      "                                       6,\n",
      "                                       216,\n",
      "                                       385,\n",
      "                                       567,\n",
      "                                       539,\n",
      "                                       723,\n",
      "                                       104]}),\n",
      " 'up': defaultdict(<class 'list'>,\n",
      "                   {'byte_count': [1296,\n",
      "                                   17116,\n",
      "                                   32722,\n",
      "                                   14256,\n",
      "                                   1390,\n",
      "                                   13723,\n",
      "                                   20520,\n",
      "                                   31302,\n",
      "                                   29000,\n",
      "                                   36666,\n",
      "                                   5346],\n",
      "                    'packet_count': [24,\n",
      "                                     314,\n",
      "                                     603,\n",
      "                                     264,\n",
      "                                     5,\n",
      "                                     214,\n",
      "                                     380,\n",
      "                                     559,\n",
      "                                     527,\n",
      "                                     679,\n",
      "                                     99]})}\n"
     ]
    }
   ],
   "source": [
    "# Now we'll use reduces in each list to get good juicy info\n",
    "stats = {}\n",
    "up = defaultdict(list)\n",
    "down = defaultdict(list)\n",
    "byte_count = defaultdict(list)\n",
    "\n",
    "for pkts in up_ordered.values():\n",
    "    up['byte_count'].append(sum(int(pkt.captured_length) for pkt in pkts))\n",
    "    up['packet_count'].append(len(pkts))\n",
    "for pkts in down_ordered.values():\n",
    "    down['byte_count'].append(sum(int(pkt.captured_length) for pkt in pkts))\n",
    "    down['packet_count'].append(len(pkts))\n",
    "stats['up'] = up\n",
    "stats['down'] = down\n",
    "pp.pprint(stats)"
   ]
  },
  {
   "cell_type": "code",
   "execution_count": 124,
   "metadata": {},
   "outputs": [],
   "source": [
    "\n",
    "def calcScalogram(data):    \n",
    "    N=11\n",
    "    dj=1/128\n",
    "    s0=2\n",
    "    J=1/dj * np.log2(0.5*N/s0)\n",
    "    scales=s0*2**(np.arange(J)*dj)\n",
    "    S,scales= scalogramCWT(data,scales)\n",
    "    return S,scales\n"
   ]
  },
  {
   "cell_type": "code",
   "execution_count": 133,
   "metadata": {},
   "outputs": [],
   "source": [
    "def calc_and_show(data, color):\n",
    "    scalo, scales = calcScalogram(data)\n",
    "    print(scalo)\n",
    "    plt.plot(scales,scalo, color, lw=3)\n",
    "    plt.show()"
   ]
  },
  {
   "cell_type": "code",
   "execution_count": 134,
   "metadata": {},
   "outputs": [
    {
     "name": "stdout",
     "output_type": "stream",
     "text": [
      "[0.00319917 0.0033592  0.00352371 0.0036926  0.00386575 0.00404306\n",
      " 0.0042244  0.00440965 0.00459866 0.00479133 0.00498752 0.00518713\n",
      " 0.00539004 0.00559617 0.00580547 0.00601787 0.00623336 0.00645197\n",
      " 0.00667374 0.00689877 0.0071272  0.00735922 0.00759508 0.00783509\n",
      " 0.0080796  0.00832906 0.00858396 0.00884488 0.00911246 0.00938744\n",
      " 0.00967059 0.0099628  0.01026501 0.01057825 0.01090359 0.0112422\n",
      " 0.01159529 0.01196414 0.01235007 0.01275444 0.01317864 0.01362411\n",
      " 0.01409226 0.01458451 0.01510229 0.01564697 0.01621988 0.01682228\n",
      " 0.01745537 0.01812023 0.01881783 0.019549   0.02031441 0.02111454\n",
      " 0.02194969 0.02281993 0.02372511 0.0246648  0.02563831 0.02664468\n",
      " 0.02768264 0.02875062 0.02984672 0.03096874 0.03211417 0.03328016\n",
      " 0.03446359 0.03566101 0.03686872 0.03808276 0.03929894 0.04051286\n",
      " 0.04171998 0.04291561 0.044095   0.04525334 0.04638585 0.04748782\n",
      " 0.04855463 0.04958184 0.05056523 0.05150086 0.0523851  0.05321468\n",
      " 0.05398674 0.05469888 0.05534918 0.05593619 0.05645901 0.05691727\n",
      " 0.05731112 0.05764127 0.05790893 0.0581158  0.05826408 0.05835638\n",
      " 0.05839573 0.05838548 0.0583293  0.0582311  0.05809497 0.05792513\n",
      " 0.05772588 0.05750151 0.0572563  0.0569944  0.05671986 0.05643654\n",
      " 0.05614808 0.0558579  0.05556917 0.05528479 0.05500739 0.05473938\n",
      " 0.05448291 0.0542399  0.05401211 0.05380113 0.05360845 0.05343549\n",
      " 0.05328363 0.0531543  0.05304897 0.05296924 0.05291686 0.05289376\n",
      " 0.0529021  0.05294427 0.05302294 0.05314102 0.05330171 0.05350844\n",
      " 0.05376489 0.05407494 0.05444261 0.05487207 0.05536751 0.05593313\n",
      " 0.05657303 0.05729117 0.05809124 0.05897661 0.05995023 0.06101455\n",
      " 0.0621714  0.06342196 0.06476664 0.06620502 0.06773577 0.06935663\n",
      " 0.07106431 0.0728545  0.07472182 0.07665982 0.07866098 0.08071672\n",
      " 0.08281745 0.08495258 0.08711064 0.0892793  0.09144548 0.09359545\n",
      " 0.09571494 0.09778928 0.09980351 0.10174253 0.10359125 0.10533475\n",
      " 0.10695842 0.10844815 0.10979044 0.11097258 0.11198283 0.11281048\n",
      " 0.11344608 0.1138815  0.11411005 0.11412662 0.11392768 0.11351144\n",
      " 0.1128778  0.11202847 0.11096689 0.10969825 0.10822949 0.10656917\n",
      " 0.10472744]\n"
     ]
    },
    {
     "data": {
      "image/png": "[encoded data removed]",
      "text/plain": [
       "<Figure size 432x288 with 1 Axes>"
      ]
     },
     "metadata": {},
     "output_type": "display_data"
    },
    {
     "name": "stdout",
     "output_type": "stream",
     "text": [
      "[0.0067472  0.00704289 0.00734245 0.00764527 0.00795068 0.008258\n",
      " 0.00856653 0.00887555 0.00918433 0.00949214 0.00979826 0.01010198\n",
      " 0.01040263 0.01069955 0.01099214 0.01127986 0.01156223 0.01183883\n",
      " 0.01210934 0.01237354 0.0126313  0.01288261 0.01312759 0.01336646\n",
      " 0.01359961 0.01382755 0.01405094 0.01427057 0.01448741 0.01470253\n",
      " 0.0149172  0.01513277 0.01535077 0.01557284 0.01580073 0.01603631\n",
      " 0.01628152 0.0165384  0.01680904 0.01709557 0.01740016 0.01772496\n",
      " 0.01807212 0.01844374 0.01884186 0.01926842 0.01972525 0.02021404\n",
      " 0.02073633 0.02129345 0.02188651 0.02251641 0.02318376 0.02388891\n",
      " 0.02463188 0.02541238 0.02622977 0.02708308 0.02797094 0.02889162\n",
      " 0.029843   0.03082259 0.03182749 0.03285445 0.03389984 0.03495966\n",
      " 0.03602959 0.03710501 0.038181   0.03925239 0.04031382 0.04135974\n",
      " 0.0423845  0.04338236 0.0443476  0.04527452 0.04615755 0.04699125\n",
      " 0.04777046 0.04849027 0.04914616 0.04973402 0.05025018 0.05069155\n",
      " 0.05105556 0.05134028 0.05154442 0.05166737 0.05170922 0.05167074\n",
      " 0.05155341 0.05135944 0.05109166 0.05075358 0.05034933 0.0498836\n",
      " 0.04936158 0.04878894 0.04817174 0.04751635 0.04682941 0.04611774\n",
      " 0.04538825 0.0446479  0.0439036  0.04316217 0.04243025 0.04171428\n",
      " 0.04102041 0.04035449 0.03972203 0.03912818 0.03857768 0.03807493\n",
      " 0.03762391 0.03722825 0.0368912  0.03661571 0.03640442 0.03625969\n",
      " 0.03618368 0.03617832 0.03624544 0.03638674 0.03660382 0.03689829\n",
      " 0.03727172 0.03772569 0.03826184 0.03888184 0.03958739 0.04038025\n",
      " 0.04126221 0.04223506 0.04330058 0.04446049 0.0457164  0.04706979\n",
      " 0.04852193 0.05007384 0.05172619 0.05347929 0.05533296 0.05728652\n",
      " 0.05933869 0.06148754 0.06373041 0.06606389 0.06848373 0.07098483\n",
      " 0.07356117 0.07620583 0.07891094 0.08166768 0.08446631 0.08729615\n",
      " 0.09014565 0.09300242 0.09585326 0.0986843  0.101481   0.10422831\n",
      " 0.10691074 0.10951252 0.11201765 0.11441015 0.11667409 0.11879385\n",
      " 0.12075417 0.1225404  0.12413861 0.12553577 0.1267199  0.1276802\n",
      " 0.12840722 0.12889301 0.12913117 0.12911704 0.12884774 0.12832224\n",
      " 0.12754144 0.12650818 0.12522726 0.12370541 0.12195128 0.11997535\n",
      " 0.11778984]\n"
     ]
    },
    {
     "data": {
      "image/png": "[encoded data removed]",
      "text/plain": [
       "<Figure size 432x288 with 1 Axes>"
      ]
     },
     "metadata": {},
     "output_type": "display_data"
    },
    {
     "name": "stdout",
     "output_type": "stream",
     "text": [
      "[0.00660071 0.00689258 0.00718856 0.00748804 0.0077904  0.00809498\n",
      " 0.00840111 0.00870809 0.00901522 0.00932179 0.0096271  0.00993045\n",
      " 0.01023117 0.01052862 0.01082221 0.01111137 0.01139561 0.01167451\n",
      " 0.01194771 0.01221496 0.01247609 0.01273104 0.01297986 0.01322273\n",
      " 0.01345993 0.0136919  0.01391921 0.01414254 0.01436276 0.01458082\n",
      " 0.01479786 0.01501511 0.01523397 0.01545594 0.01568262 0.01591575\n",
      " 0.01615715 0.01640869 0.01667236 0.01695015 0.0172441  0.01755628\n",
      " 0.01788873 0.01824347 0.01862247 0.01902762 0.01946074 0.0199235\n",
      " 0.02041744 0.02094394 0.02150418 0.02209914 0.02272954 0.02339587\n",
      " 0.02409833 0.02483682 0.02561093 0.02641991 0.02726269 0.02813782\n",
      " 0.02904351 0.02997758 0.03093751 0.0319204  0.03292299 0.03394169\n",
      " 0.03497255 0.03601136 0.03705357 0.03809441 0.03912889 0.04015182\n",
      " 0.0411579  0.04214172 0.04309784 0.04402085 0.0449054  0.04574627\n",
      " 0.04653846 0.0472772  0.04795804 0.0485769  0.04913014 0.04961459\n",
      " 0.0500276  0.05036709 0.05063158 0.05082024 0.05093285 0.05096988\n",
      " 0.05093245 0.05082236 0.05064203 0.05039449 0.05008339 0.0497129\n",
      " 0.0492877  0.04881292 0.04829405 0.04773693 0.04714764 0.04653245\n",
      " 0.04589775 0.04524998 0.04459555 0.0439408  0.04329194 0.04265498\n",
      " 0.04203569 0.04143957 0.04087182 0.04033732 0.0398406  0.03938584\n",
      " 0.0389769  0.03861728 0.03831018 0.03805851 0.03786493 0.03773185\n",
      " 0.03766149 0.03765592 0.03771709 0.03784688 0.0380471  0.03831956\n",
      " 0.03866608 0.03908852 0.03958879 0.04016883 0.04083067 0.04157639\n",
      " 0.0424081  0.04332792 0.04433799 0.04544034 0.04663697 0.04792968\n",
      " 0.04932011 0.05080959 0.05239917 0.05408946 0.05588064 0.05777233\n",
      " 0.05976357 0.06185273 0.06403743 0.06631454 0.06868005 0.07112911\n",
      " 0.07365594 0.07625381 0.07891503 0.08163096 0.084392   0.08718762\n",
      " 0.09000636 0.09283593 0.09566323 0.09847442 0.10125502 0.10399\n",
      " 0.1066639  0.10926093 0.11176511 0.11416041 0.1164309  0.11856089\n",
      " 0.12053509 0.1223388  0.12395802 0.12537964 0.12659161 0.12758304\n",
      " 0.12834441 0.12886765 0.12914626 0.12917547 0.12895226 0.12847548\n",
      " 0.1277459  0.1267662  0.12554102 0.12407693 0.1223824  0.12046771\n",
      " 0.11834491]\n"
     ]
    },
    {
     "data": {
      "image/png": "[encoded data removed]",
      "text/plain": [
       "<Figure size 432x288 with 1 Axes>"
      ]
     },
     "metadata": {},
     "output_type": "display_data"
    },
    {
     "name": "stdout",
     "output_type": "stream",
     "text": [
      "[0.00647593 0.00676156 0.00705112 0.00734402 0.00763966 0.00793738\n",
      " 0.00823651 0.00853637 0.00883626 0.0091355  0.00943339 0.00972925\n",
      " 0.01002243 0.01031229 0.01059826 0.0108798  0.01115643 0.01142773\n",
      " 0.01169339 0.01195315 0.01220686 0.01245449 0.01269611 0.01293189\n",
      " 0.01316217 0.01338737 0.01360809 0.01382504 0.01403906 0.01425116\n",
      " 0.01446246 0.01467423 0.01488785 0.01510483 0.01532679 0.01555546\n",
      " 0.01579266 0.01604027 0.01630025 0.0165746  0.01686536 0.01717456\n",
      " 0.01750423 0.01785636 0.01823291 0.01863575 0.01906663 0.01952722\n",
      " 0.02001901 0.02054333 0.02110132 0.02169391 0.02232178 0.02298535\n",
      " 0.02368477 0.02441989 0.02519024 0.02599503 0.0268331  0.02770298\n",
      " 0.02860281 0.02953037 0.03048309 0.03145804 0.03245193 0.03346113\n",
      " 0.03448169 0.03550937 0.03653963 0.03756771 0.03858863 0.03959723\n",
      " 0.04058825 0.04155633 0.0424961  0.04340219 0.04426935 0.04509246\n",
      " 0.0458666  0.04658712 0.04724967 0.04785032 0.04838553 0.04885227\n",
      " 0.04924803 0.04957087 0.04981944 0.04999305 0.05009162 0.05011576\n",
      " 0.05006672 0.04994641 0.04975738 0.04950279 0.04918637 0.0488124\n",
      " 0.04838565 0.04791132 0.04739498 0.04684253 0.04626009 0.04565398\n",
      " 0.04503062 0.04439646 0.04375794 0.04312138 0.04249298 0.04187875\n",
      " 0.04128442 0.04071547 0.04017705 0.03967399 0.03921076 0.03879149\n",
      " 0.03841995 0.03809959 0.03783352 0.03762456 0.03747527 0.03738798\n",
      " 0.0373648  0.0374077  0.03751852 0.03769902 0.03795089 0.03827584\n",
      " 0.03867555 0.03915175 0.03970621 0.04034076 0.04105728 0.04185772\n",
      " 0.04274404 0.04371825 0.04478231 0.04593815 0.0471876  0.04853234\n",
      " 0.04997387 0.05151341 0.05315186 0.05488972 0.05672705 0.05866337\n",
      " 0.06069761 0.06282804 0.0650522  0.06736687 0.06976799 0.07225063\n",
      " 0.07480897 0.07743623 0.0801247  0.0828657  0.08564962 0.08846592\n",
      " 0.09130315 0.09414901 0.09699042 0.09981355 0.10260394 0.10534661\n",
      " 0.10802609 0.11062664 0.11313231 0.11552709 0.11779508 0.11992064\n",
      " 0.12188849 0.12368397 0.12529311 0.12670282 0.1279011  0.12887708\n",
      " 0.12962127 0.13012565 0.13038376 0.13039087 0.13014404 0.12964216\n",
      " 0.12888607 0.12787853 0.12662429 0.12513001 0.12340427 0.1214575\n",
      " 0.11930186]\n"
     ]
    },
    {
     "data": {
      "image/png": "[encoded data removed]",
      "text/plain": [
       "<Figure size 432x288 with 1 Axes>"
      ]
     },
     "metadata": {},
     "output_type": "display_data"
    }
   ],
   "source": [
    "calc_and_show(np.asarray(stats['down']['byte_count']), 'r')\n",
    "calc_and_show(np.asarray(stats['up']['byte_count']), 'b')\n",
    "calc_and_show(np.asarray(stats['down']['packet_count']), 'r')\n",
    "calc_and_show(np.asarray(stats['up']['packet_count']), 'b')"
   ]
  },
  {
   "cell_type": "code",
   "execution_count": null,
   "metadata": {},
   "outputs": [],
   "source": []
  }
 ],
 "metadata": {
  "kernelspec": {
   "display_name": "Python 3",
   "language": "python",
   "name": "python3"
  }
 },
 "nbformat": 4,
 "nbformat_minor": 2
}
